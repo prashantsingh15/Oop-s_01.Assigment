{
 "cells": [
  {
   "cell_type": "markdown",
   "id": "49480e66",
   "metadata": {},
   "source": [
    "Q1. Explain Class and Object with respect to Object-Oriented Programming. Give a suitable example."
   ]
  },
  {
   "cell_type": "markdown",
   "id": "ca84fee4",
   "metadata": {},
   "source": [
    "Class --> A class is user defined blueprint from which objects are created.\n",
    "\n",
    "Object--> An Instance of a class is Known As Object\n",
    "\n",
    "Example Of class And Object Is Down there "
   ]
  },
  {
   "cell_type": "code",
   "execution_count": 5,
   "id": "8f27bb77",
   "metadata": {},
   "outputs": [],
   "source": [
    "class Family:\n",
    "    def __init__(prashant,maa,papa,sister):\n",
    "        prashant.maa = maa\n",
    "        prashant.papa = papa\n",
    "        prashant.sister = sister\n",
    "        \n",
    "        \n",
    "    def return_family_name(prashant):\n",
    "        return prashant.maa,prashant.papa,prashant.sister"
   ]
  },
  {
   "cell_type": "code",
   "execution_count": 6,
   "id": "569611f3",
   "metadata": {},
   "outputs": [],
   "source": [
    "golu = Family(\"Seema Singh\",\"Manoj Singh\",\"Shubhanjali Singh\")"
   ]
  },
  {
   "cell_type": "code",
   "execution_count": 7,
   "id": "4f3bcd4a",
   "metadata": {},
   "outputs": [
    {
     "data": {
      "text/plain": [
       "'Seema Singh'"
      ]
     },
     "execution_count": 7,
     "metadata": {},
     "output_type": "execute_result"
    }
   ],
   "source": [
    "golu.maa\n"
   ]
  },
  {
   "cell_type": "code",
   "execution_count": 8,
   "id": "5da48b1c",
   "metadata": {},
   "outputs": [
    {
     "data": {
      "text/plain": [
       "'Manoj Singh'"
      ]
     },
     "execution_count": 8,
     "metadata": {},
     "output_type": "execute_result"
    }
   ],
   "source": [
    "golu.papa"
   ]
  },
  {
   "cell_type": "code",
   "execution_count": 9,
   "id": "daa1ba6c",
   "metadata": {},
   "outputs": [
    {
     "data": {
      "text/plain": [
       "'Shubhanjali Singh'"
      ]
     },
     "execution_count": 9,
     "metadata": {},
     "output_type": "execute_result"
    }
   ],
   "source": [
    "golu.sister"
   ]
  },
  {
   "cell_type": "markdown",
   "id": "1b14231f",
   "metadata": {},
   "source": [
    "# Name the four pillars of OOPs.\n",
    "\n",
    "\n",
    "Ans--> The Four Pillar Of oops are as Follows ---\n",
    "i) Abstraction.\n",
    "ii) Encapsulation\n",
    "iii) Inheritance\n",
    "iv) Polymorphism\n",
    "\n",
    "These are the four pillars of Oops."
   ]
  },
  {
   "cell_type": "markdown",
   "id": "2868d700",
   "metadata": {},
   "source": [
    "# Explain why the __init__() function is used. Give a suitable example.\n",
    "\n",
    "Ans --> __init__ Is A  special type of method used in python that runs whenever we create a new object,this is used to initialize the attributes of the class.\n",
    "\n",
    "Example -- If the class Is family ,then the atributes will be family name,age, etc..\n",
    "\n",
    "i) __init__ function is used to pass the paramters pr value of given class .if we not use __init__ then we cant pass any object. \n",
    "\n",
    "\n",
    "\n",
    "\n",
    "\n",
    "ii)__init__ is the constructor"
   ]
  },
  {
   "cell_type": "code",
   "execution_count": 10,
   "id": "6eb32e70",
   "metadata": {},
   "outputs": [],
   "source": [
    "class Subject:\n",
    "    def __init__(love,science,maths,english):\n",
    "        love.science = science\n",
    "        love.maths = maths\n",
    "        love.english = english\n",
    "        \n",
    "        \n",
    "    def subjcet_score_board(love):\n",
    "        return love.maths, love.science, love.english\n",
    "        "
   ]
  },
  {
   "cell_type": "code",
   "execution_count": 11,
   "id": "6b361001",
   "metadata": {},
   "outputs": [],
   "source": [
    "vishai = Subject(100,200,500)"
   ]
  },
  {
   "cell_type": "code",
   "execution_count": 13,
   "id": "f8958123",
   "metadata": {},
   "outputs": [
    {
     "data": {
      "text/plain": [
       "200"
      ]
     },
     "execution_count": 13,
     "metadata": {},
     "output_type": "execute_result"
    }
   ],
   "source": [
    "vishai.maths"
   ]
  },
  {
   "cell_type": "code",
   "execution_count": 14,
   "id": "cec973c2",
   "metadata": {},
   "outputs": [
    {
     "data": {
      "text/plain": [
       "500"
      ]
     },
     "execution_count": 14,
     "metadata": {},
     "output_type": "execute_result"
    }
   ],
   "source": [
    "vishai.english"
   ]
  },
  {
   "cell_type": "markdown",
   "id": "28e226da",
   "metadata": {},
   "source": [
    "# Q4. Why self is used in OOPs?\n",
    "\n",
    "Ans -- > Self Is used to repressent the instance of the class,with this keyword we can access the attributes and methods of the class in python. It Binds the given arguments. We use self because python doesnt't support '@' syntax.."
   ]
  },
  {
   "cell_type": "markdown",
   "id": "fe769d67",
   "metadata": {},
   "source": [
    "# Q5. What is inheritance? Give an example for each type of inheritance.\n",
    "\n",
    "\n",
    "Ans --> Inheritance is the ability of one class to inherit another class. It  Provide the reuseability of code and allows us to create complex and real World like relationship among objects.\n",
    "\n",
    "1) syntax--> class Subclass(SuperClass):\n",
    "\n",
    "\n",
    "# Types OF Inheritance\n",
    "\n",
    "Ans --> There are five types of Inheritance--\n",
    "i) Single Inheritance \n",
    "ii)Multiple Inheritance\n",
    "iii)Multilevel inheritance\n",
    "iv) Hierarchical Inheritance\n",
    "v)Hybrid Inheritance\n"
   ]
  },
  {
   "cell_type": "code",
   "execution_count": 16,
   "id": "25d065c0",
   "metadata": {},
   "outputs": [
    {
     "name": "stdout",
     "output_type": "stream",
     "text": [
      "<class '__main__.Family'>\n",
      "<class '__main__.Members'>\n"
     ]
    }
   ],
   "source": [
    "class Family:\n",
    "    pass\n",
    "print(Family)\n",
    "\n",
    "class Members(Family): # In this line we see That member Inherits the Family class\n",
    "    pass\n",
    "print(Members)"
   ]
  },
  {
   "cell_type": "markdown",
   "id": "692664bc",
   "metadata": {},
   "source": [
    "# Single Inheritance -\n",
    "when One child class inherits only one parenty class it is called Single Inheritance"
   ]
  },
  {
   "cell_type": "code",
   "execution_count": 18,
   "id": "ef729fca",
   "metadata": {},
   "outputs": [
    {
     "name": "stdout",
     "output_type": "stream",
     "text": [
      "Prashant is a Data Scientist\n"
     ]
    }
   ],
   "source": [
    "class Person:\n",
    "    def __init__(self,name,age):\n",
    "        self.name = name\n",
    "        self.age = age\n",
    "        \n",
    "class Data_science(Person):\n",
    "    \n",
    "    def isData_science(self):\n",
    "        return f\"{self.name} is a Data Scientist\"\n",
    "    \n",
    "    \n",
    "work = Data_science(\"Prashant\", 19)\n",
    "\n",
    "print(work.isData_science())"
   ]
  },
  {
   "cell_type": "markdown",
   "id": "a14d7b9a",
   "metadata": {},
   "source": [
    "# Multiple Inheritace\n",
    "When One  Child class inherits two or more parent classes.It is called Multiple Inheritance. "
   ]
  },
  {
   "cell_type": "code",
   "execution_count": 22,
   "id": "2461b7f2",
   "metadata": {},
   "outputs": [],
   "source": [
    "class SuperClass1:\n",
    "    num1 = 3\n",
    "    \n",
    "class SuperClass2:\n",
    "    num2 = 5\n",
    "    \n",
    "    \n",
    "class SuperClass3:\n",
    "    num3 = 8\n",
    "    \n",
    "class SubClass(SuperClass1, SuperClass2,SuperClass3):\n",
    "    def addition(self):\n",
    "        return self.num1 + self.num2 + self.num3\n",
    "    \n"
   ]
  },
  {
   "cell_type": "code",
   "execution_count": 23,
   "id": "299b454d",
   "metadata": {},
   "outputs": [
    {
     "name": "stdout",
     "output_type": "stream",
     "text": [
      "16\n"
     ]
    }
   ],
   "source": [
    "obj = SubClass()\n",
    "print(obj.addition())"
   ]
  },
  {
   "cell_type": "markdown",
   "id": "ecd1c34a",
   "metadata": {},
   "source": [
    "# Multilevel Inheritance \n",
    "When a class inherits a child class ,it is called MultiLevel inheritance."
   ]
  },
  {
   "cell_type": "code",
   "execution_count": 25,
   "id": "86024f83",
   "metadata": {},
   "outputs": [
    {
     "name": "stdout",
     "output_type": "stream",
     "text": [
      "PrashantSingh\n"
     ]
    }
   ],
   "source": [
    "class Parent:\n",
    "    str1 = \"Prashant\"\n",
    "    \n",
    "    \n",
    "class child(Parent):\n",
    "    str2 = \"Singh\"\n",
    "    \n",
    "class GrandChild(child):\n",
    "    \n",
    "    def get_str(self):\n",
    "        print(self.str1 + self.str2)\n",
    "        \n",
    "person = GrandChild()\n",
    "person.get_str()\n",
    "\n",
    "\n",
    "# In this code GrandChild Is a Suclass of Child whis is a subclass OF parent.\n",
    "# GrandChild can access Both the parent and child classses' attributes"
   ]
  },
  {
   "cell_type": "markdown",
   "id": "8b227269",
   "metadata": {},
   "source": [
    "#  Hierarchical Inheritance\n",
    "When multiple classes inherit the same class , it is called Hierarechical Inheritane"
   ]
  },
  {
   "cell_type": "code",
   "execution_count": 31,
   "id": "13443bc8",
   "metadata": {
    "scrolled": true
   },
   "outputs": [
    {
     "name": "stdout",
     "output_type": "stream",
     "text": [
      "3 3 3\n"
     ]
    }
   ],
   "source": [
    "class SuperClass:\n",
    "    x = 3\n",
    "    \n",
    "class SubClass1(SuperClass):\n",
    "    pass\n",
    "\n",
    "class SubClass2(SuperClass):\n",
    "    pass\n",
    "\n",
    "class SubClass3(SuperClass):\n",
    "    pass\n",
    "\n",
    "a = SubClass1()\n",
    "b = SubClass2()\n",
    "c = SubClass3()\n",
    "\n",
    "print(a.x, b.x, c.x)\n",
    "\n",
    "\n",
    "# In this Exapmle All Three SubClass Have Inherited The SameClass"
   ]
  },
  {
   "cell_type": "markdown",
   "id": "c80ce762",
   "metadata": {},
   "source": [
    "#  Hybrid Inheritance-\n",
    "A Combination Of more than one type of inheritance is Known As Hybrid Inheritance \n"
   ]
  },
  {
   "cell_type": "code",
   "execution_count": 37,
   "id": "1a437ea4",
   "metadata": {},
   "outputs": [
    {
     "name": "stdout",
     "output_type": "stream",
     "text": [
      "10\n"
     ]
    }
   ],
   "source": [
    "class X:\n",
    "    num = 10\n",
    "    \n",
    "class A(X):\n",
    "    pass\n",
    "class B(A):\n",
    "    pass\n",
    "\n",
    "class C(A):\n",
    "    pass\n",
    "\n",
    "class D(B, C):\n",
    "    pass\n",
    "\n",
    "object = D()\n",
    "print(D.num)\n",
    "\n",
    "# In this Code We Combine Multiple Inheritance ,Multilevel Inheritance and Hirarichal Inheritance "
   ]
  }
 ],
 "metadata": {
  "kernelspec": {
   "display_name": "Python 3 (ipykernel)",
   "language": "python",
   "name": "python3"
  },
  "language_info": {
   "codemirror_mode": {
    "name": "ipython",
    "version": 3
   },
   "file_extension": ".py",
   "mimetype": "text/x-python",
   "name": "python",
   "nbconvert_exporter": "python",
   "pygments_lexer": "ipython3",
   "version": "3.11.2"
  }
 },
 "nbformat": 4,
 "nbformat_minor": 5
}
